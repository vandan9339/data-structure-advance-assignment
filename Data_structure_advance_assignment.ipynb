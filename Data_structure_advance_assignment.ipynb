{
  "nbformat": 4,
  "nbformat_minor": 0,
  "metadata": {
    "colab": {
      "provenance": [],
      "authorship_tag": "ABX9TyN4wL9WhFQdV1QFdOL5u3U9",
      "include_colab_link": true
    },
    "kernelspec": {
      "name": "python3",
      "display_name": "Python 3"
    },
    "language_info": {
      "name": "python"
    }
  },
  "cells": [
    {
      "cell_type": "markdown",
      "metadata": {
        "id": "view-in-github",
        "colab_type": "text"
      },
      "source": [
        "<a href=\"https://colab.research.google.com/github/vandan9339/2nd-Assignment/blob/main/Data_structure_advance_assignment.ipynb\" target=\"_parent\"><img src=\"https://colab.research.google.com/assets/colab-badge.svg\" alt=\"Open In Colab\"/></a>"
      ]
    },
    {
      "cell_type": "markdown",
      "source": [
        "***1. Write a code to reverse string.***"
      ],
      "metadata": {
        "id": "yasn94CBApns"
      }
    },
    {
      "cell_type": "code",
      "source": [
        "a = \"Hello\"\n",
        "a = a[::-1]"
      ],
      "metadata": {
        "id": "0FqsZWRVAygr"
      },
      "execution_count": null,
      "outputs": []
    },
    {
      "cell_type": "code",
      "source": [
        "a"
      ],
      "metadata": {
        "colab": {
          "base_uri": "https://localhost:8080/",
          "height": 36
        },
        "id": "4nPBG5IwBBAl",
        "outputId": "df9de506-9004-4ec7-8c9a-3b323f88683c"
      },
      "execution_count": null,
      "outputs": [
        {
          "output_type": "execute_result",
          "data": {
            "text/plain": [
              "'olleH'"
            ],
            "application/vnd.google.colaboratory.intrinsic+json": {
              "type": "string"
            }
          },
          "metadata": {},
          "execution_count": 2
        }
      ]
    },
    {
      "cell_type": "markdown",
      "source": [
        "Here we have reversed the string"
      ],
      "metadata": {
        "id": "bggLHhISBGAs"
      }
    },
    {
      "cell_type": "markdown",
      "source": [
        "***2. Write a code to count the number of vowel in a string.***"
      ],
      "metadata": {
        "id": "ERYfYY0aBK5u"
      }
    },
    {
      "cell_type": "code",
      "source": [
        "a = \"My name is vandan\"\n",
        "count = 0\n",
        "for i in a:\n",
        "    if i in \"aeiou\":\n",
        "        count = count + 1"
      ],
      "metadata": {
        "id": "ACwkVEy6BDVN"
      },
      "execution_count": null,
      "outputs": []
    },
    {
      "cell_type": "code",
      "source": [
        "print(count)"
      ],
      "metadata": {
        "colab": {
          "base_uri": "https://localhost:8080/"
        },
        "id": "0qYxfoZqBcju",
        "outputId": "dfa87f8d-1ca5-41b3-c790-485e43a5048d"
      },
      "execution_count": null,
      "outputs": [
        {
          "output_type": "stream",
          "name": "stdout",
          "text": [
            "5\n"
          ]
        }
      ]
    },
    {
      "cell_type": "markdown",
      "source": [
        "*** 3. Write a code to check if a given string is palindrome or not.***"
      ],
      "metadata": {
        "id": "oo0JfmYFCFe_"
      }
    },
    {
      "cell_type": "code",
      "source": [
        "a = \"vandan\"\n",
        "if a == a[::-1]:\n",
        "    print(\"palindrome\")\n",
        "else:\n",
        "    print(\"not palindrome\")"
      ],
      "metadata": {
        "colab": {
          "base_uri": "https://localhost:8080/"
        },
        "id": "ru-t4ai1B3Yv",
        "outputId": "f1faed58-ede5-4703-94dd-f17ef1c1af7f"
      },
      "execution_count": null,
      "outputs": [
        {
          "output_type": "stream",
          "name": "stdout",
          "text": [
            "not palindrome\n"
          ]
        }
      ]
    },
    {
      "cell_type": "code",
      "source": [
        "a = \"malayalam\"\n",
        "if a == a[::-1]:\n",
        "    print(\"palindrome\")\n",
        "else:\n",
        "    print(\"not palindrome\")\n"
      ],
      "metadata": {
        "colab": {
          "base_uri": "https://localhost:8080/"
        },
        "id": "dSyUCUsBCkhH",
        "outputId": "5c0bf054-0c7c-4bed-d756-f29c722de79e"
      },
      "execution_count": null,
      "outputs": [
        {
          "output_type": "stream",
          "name": "stdout",
          "text": [
            "palindrome\n"
          ]
        }
      ]
    },
    {
      "cell_type": "markdown",
      "source": [
        "***4. Write a code to check if two given strings are anagrams too each other.***"
      ],
      "metadata": {
        "id": "7_hXSonyDFh8"
      }
    },
    {
      "cell_type": "code",
      "source": [
        "a = \"Your mother is beautiful\"\n",
        "b = \"Your mom is beautiful\"\n",
        "if sorted(a) == sorted(b):\n",
        "    print(\"anagram\")\n",
        "else:\n",
        "    print(\"not anagram\")"
      ],
      "metadata": {
        "colab": {
          "base_uri": "https://localhost:8080/"
        },
        "id": "aVAlb36XCzFA",
        "outputId": "e308bbd9-e71a-4ed2-c23a-cd4040b6f304"
      },
      "execution_count": null,
      "outputs": [
        {
          "output_type": "stream",
          "name": "stdout",
          "text": [
            "not anagram\n"
          ]
        }
      ]
    },
    {
      "cell_type": "code",
      "source": [
        "a = \"silent\"\n",
        "b = \"listen\"\n",
        "if sorted(a) == sorted(b):\n",
        "    print(\"anagram\")\n",
        "else:\n",
        "    print(\"not anagram\")"
      ],
      "metadata": {
        "colab": {
          "base_uri": "https://localhost:8080/"
        },
        "id": "FejUqNMvD1w4",
        "outputId": "2a1c9a83-8541-4a46-c115-42e63cc489d4"
      },
      "execution_count": null,
      "outputs": [
        {
          "output_type": "stream",
          "name": "stdout",
          "text": [
            "anagram\n"
          ]
        }
      ]
    },
    {
      "cell_type": "markdown",
      "source": [
        "***5. Write a code to find all occurrences Of a given substring within a string.***"
      ],
      "metadata": {
        "id": "SZd6ZmcDENJe"
      }
    },
    {
      "cell_type": "code",
      "source": [
        "a = \"My name is vandan\"\n",
        "b = \"name\"\n",
        "a.count(b)\n",
        "\n"
      ],
      "metadata": {
        "colab": {
          "base_uri": "https://localhost:8080/"
        },
        "id": "r_fHRdWGD4JC",
        "outputId": "6d47a1ca-615c-4afc-b176-cec0f84f653c"
      },
      "execution_count": null,
      "outputs": [
        {
          "output_type": "execute_result",
          "data": {
            "text/plain": [
              "1"
            ]
          },
          "metadata": {},
          "execution_count": 14
        }
      ]
    },
    {
      "cell_type": "code",
      "source": [
        "a = \"My name is vandan\"\n",
        "b = \"n\"\n",
        "a.count(b)"
      ],
      "metadata": {
        "colab": {
          "base_uri": "https://localhost:8080/"
        },
        "id": "TL2aePmkEzZQ",
        "outputId": "a46b9ea6-f881-4164-d30a-5b0a50879512"
      },
      "execution_count": null,
      "outputs": [
        {
          "output_type": "execute_result",
          "data": {
            "text/plain": [
              "3"
            ]
          },
          "metadata": {},
          "execution_count": 15
        }
      ]
    },
    {
      "cell_type": "markdown",
      "source": [
        "***6. Write a code perform basic string compression using the count of repeated character.***"
      ],
      "metadata": {
        "id": "JpEBsprUFKkr"
      }
    },
    {
      "cell_type": "code",
      "source": [
        "strval = input(\"enter your string value:-\")\n",
        "ch = strval[0]\n",
        "result = \"\"\n",
        "count = 0\n",
        "strval = strval + \"\"\n",
        "for x in strval:\n",
        "    if x == ch:\n",
        "        count += 1\n",
        "    else:\n",
        "        result = result + str(count) + str(ch)\n",
        "        ch = x\n",
        "        count = 1\n",
        "print(result)"
      ],
      "metadata": {
        "id": "ZcWN1DohG9HF",
        "colab": {
          "base_uri": "https://localhost:8080/"
        },
        "outputId": "7c102887-3f3b-4876-f9e7-35e62bb197db"
      },
      "execution_count": null,
      "outputs": [
        {
          "output_type": "stream",
          "name": "stdout",
          "text": [
            "enter your string value:-aaabbbaaabbbbaaabbba\n",
            "3a3b3a4b3a3b\n"
          ]
        }
      ]
    },
    {
      "cell_type": "markdown",
      "source": [
        "***7. Write a code to determine if a string has all unique character.***"
      ],
      "metadata": {
        "id": "vKFN29cIAEUt"
      }
    },
    {
      "cell_type": "code",
      "source": [
        "a = input(\"enter your string:-\")\n",
        "if len(set(a)) == len(a):\n",
        "    print(\"unique\")\n",
        "else:\n",
        "    print(\"not unique\")"
      ],
      "metadata": {
        "colab": {
          "base_uri": "https://localhost:8080/"
        },
        "id": "dq8jPJHn_oyt",
        "outputId": "e2dec2b0-6490-40db-8bcd-5e5f059dec60"
      },
      "execution_count": null,
      "outputs": [
        {
          "output_type": "stream",
          "name": "stdout",
          "text": [
            "enter your string:-vandan\n",
            "not unique\n"
          ]
        }
      ]
    },
    {
      "cell_type": "code",
      "source": [
        "a = input(\"enter your string:-\")\n",
        "if len(set(a)) == len(a):\n",
        "    print(\"unique\")\n",
        "else:\n",
        "    print(\"not unique\")"
      ],
      "metadata": {
        "colab": {
          "base_uri": "https://localhost:8080/"
        },
        "id": "OGpRwDBlAYh0",
        "outputId": "36f1e7ec-1a14-429b-e4b2-01332a00b1c7"
      },
      "execution_count": null,
      "outputs": [
        {
          "output_type": "stream",
          "name": "stdout",
          "text": [
            "enter your string:- Mahi\n",
            "unique\n"
          ]
        }
      ]
    },
    {
      "cell_type": "markdown",
      "source": [
        "***8. Write a code to a given string to lowercase and uppercase.***"
      ],
      "metadata": {
        "id": "cQ-g66tsAs1U"
      }
    },
    {
      "cell_type": "code",
      "source": [
        "s = \"My Name Is Vandan\"\n",
        "s.lower()\n"
      ],
      "metadata": {
        "colab": {
          "base_uri": "https://localhost:8080/",
          "height": 36
        },
        "id": "X9MXLn7IAvwR",
        "outputId": "40ce0b63-5f25-40f9-8cef-00de7b4baebb"
      },
      "execution_count": null,
      "outputs": [
        {
          "output_type": "execute_result",
          "data": {
            "text/plain": [
              "'my name is vandan'"
            ],
            "application/vnd.google.colaboratory.intrinsic+json": {
              "type": "string"
            }
          },
          "metadata": {},
          "execution_count": 12
        }
      ]
    },
    {
      "cell_type": "code",
      "source": [
        "s = \"My Name Is Vandan\"\n",
        "s.upper()"
      ],
      "metadata": {
        "colab": {
          "base_uri": "https://localhost:8080/",
          "height": 36
        },
        "id": "Mu9cbAaAA0IQ",
        "outputId": "b92a1abc-3f82-4d43-ee41-9087f0b82b17"
      },
      "execution_count": null,
      "outputs": [
        {
          "output_type": "execute_result",
          "data": {
            "text/plain": [
              "'MY NAME IS VANDAN'"
            ],
            "application/vnd.google.colaboratory.intrinsic+json": {
              "type": "string"
            }
          },
          "metadata": {},
          "execution_count": 13
        }
      ]
    },
    {
      "cell_type": "markdown",
      "source": [
        "***9. Write a code to count the number of words in a string.***"
      ],
      "metadata": {
        "id": "7Mi6REI8A-CE"
      }
    },
    {
      "cell_type": "code",
      "source": [
        "s = \"My Name Is Vandan\"\n",
        "len(s.split())"
      ],
      "metadata": {
        "colab": {
          "base_uri": "https://localhost:8080/"
        },
        "id": "mKr8R2tHA89_",
        "outputId": "7e53c7cb-2127-4904-b728-2a367e6e18aa"
      },
      "execution_count": null,
      "outputs": [
        {
          "output_type": "execute_result",
          "data": {
            "text/plain": [
              "4"
            ]
          },
          "metadata": {},
          "execution_count": 14
        }
      ]
    },
    {
      "cell_type": "markdown",
      "source": [
        "***10. Write code to concatenate two strings without using  + operator.***"
      ],
      "metadata": {
        "id": "sHQcv2AtB7nf"
      }
    },
    {
      "cell_type": "code",
      "source": [
        "a = \"My\"\n",
        "b = \"Name\"\n",
        "c = \"\".join([a,b])\n",
        "c\n"
      ],
      "metadata": {
        "colab": {
          "base_uri": "https://localhost:8080/",
          "height": 36
        },
        "id": "srsADC3MBsuF",
        "outputId": "04d1b581-300a-41ec-a045-5eaf579c59dd"
      },
      "execution_count": null,
      "outputs": [
        {
          "output_type": "execute_result",
          "data": {
            "text/plain": [
              "'MyName'"
            ],
            "application/vnd.google.colaboratory.intrinsic+json": {
              "type": "string"
            }
          },
          "metadata": {},
          "execution_count": 25
        }
      ]
    },
    {
      "cell_type": "code",
      "source": [
        "a = \"My\"\n",
        "b = \"Name\"\n",
        "c = f\"{a}{b}\"\n",
        "c"
      ],
      "metadata": {
        "colab": {
          "base_uri": "https://localhost:8080/",
          "height": 36
        },
        "id": "TBzSA0GjCiq9",
        "outputId": "27d18db2-d8f7-4fd6-8cdc-702505a56b5e"
      },
      "execution_count": null,
      "outputs": [
        {
          "output_type": "execute_result",
          "data": {
            "text/plain": [
              "'MyName'"
            ],
            "application/vnd.google.colaboratory.intrinsic+json": {
              "type": "string"
            }
          },
          "metadata": {},
          "execution_count": 26
        }
      ]
    },
    {
      "cell_type": "markdown",
      "source": [
        "***11. Write a code to remove the occurances of a specific element in the list.***"
      ],
      "metadata": {
        "id": "Slef1zcnEHx5"
      }
    },
    {
      "cell_type": "code",
      "source": [
        "from os import remove\n",
        "list1 = [1,2,3,4,5,6,7,8,9,1,2,2,2,2,2,4,2,4,2]\n",
        "remove_element = 2\n",
        "list1 = [x for x in list1 if x != remove_element]\n",
        "print(list1)\n"
      ],
      "metadata": {
        "colab": {
          "base_uri": "https://localhost:8080/"
        },
        "id": "D68SEe4bEFUc",
        "outputId": "8ed8f4b0-554c-4fca-c82c-977c5896eae3"
      },
      "execution_count": null,
      "outputs": [
        {
          "output_type": "stream",
          "name": "stdout",
          "text": [
            "[1, 3, 4, 5, 6, 7, 8, 9, 1, 4, 4]\n"
          ]
        }
      ]
    },
    {
      "cell_type": "markdown",
      "source": [
        "***12. Implement a code to find the second largest number in a given list of numbers.***"
      ],
      "metadata": {
        "id": "0YZoS8dPFkB6"
      }
    },
    {
      "cell_type": "code",
      "source": [
        "a = [12, 11, 56, 88 ,1 , 25, 55 ]\n",
        "a.sort()\n",
        "a[-2]"
      ],
      "metadata": {
        "colab": {
          "base_uri": "https://localhost:8080/"
        },
        "id": "smOAofY1PeUK",
        "outputId": "0ebb7e5d-4738-4744-9956-624cfa8a2f35"
      },
      "execution_count": null,
      "outputs": [
        {
          "output_type": "execute_result",
          "data": {
            "text/plain": [
              "56"
            ]
          },
          "metadata": {},
          "execution_count": 6
        }
      ]
    },
    {
      "cell_type": "markdown",
      "source": [
        "***13.Create a code to count the occurrences of each element in a list and return a dictionary with elements as keys and their counts as values.***"
      ],
      "metadata": {
        "id": "xGkdGUX_uIat"
      }
    },
    {
      "cell_type": "markdown",
      "source": [],
      "metadata": {
        "id": "oGdZ3eL-uIXU"
      }
    },
    {
      "cell_type": "code",
      "source": [
        "my_list = [\"vandan\", \"vandan\", 1, 55, 12 , 55 , \"vandan\", \"aman\", \"ajay\", 1, 55, 12 , 55 ]\n",
        "count_dict = {}\n",
        "for item in my_list:\n",
        "    if item in count_dict:\n",
        "        count_dict[item] += 1\n",
        "    else:\n",
        "        count_dict[item] = 1\n",
        "print(count_dict)"
      ],
      "metadata": {
        "id": "18wxW29qQiGm",
        "colab": {
          "base_uri": "https://localhost:8080/"
        },
        "outputId": "d9c1087d-5ad7-45f8-ebd5-6ea8edcf19c3"
      },
      "execution_count": null,
      "outputs": [
        {
          "output_type": "stream",
          "name": "stdout",
          "text": [
            "{'vandan': 3, 1: 2, 55: 4, 12: 2, 'aman': 1, 'ajay': 1}\n"
          ]
        }
      ]
    },
    {
      "cell_type": "markdown",
      "source": [
        "***14. Write a code to reverse a list in-place without using any built in reverse function.***"
      ],
      "metadata": {
        "id": "6Pv8kZwpu2Zn"
      }
    },
    {
      "cell_type": "code",
      "source": [
        "a = [1,2,3,4,5]\n",
        "start = 0\n",
        "end = len(a) - 1\n",
        "while start < end:\n",
        "    a[start], a[end] = a[end], a[start]\n",
        "    start += 1\n",
        "    end -= 1\n",
        "print(a)"
      ],
      "metadata": {
        "colab": {
          "base_uri": "https://localhost:8080/"
        },
        "id": "XRd_giGBvKrR",
        "outputId": "e7bc40e7-0408-45be-d943-32db3fbe17ac"
      },
      "execution_count": null,
      "outputs": [
        {
          "output_type": "stream",
          "name": "stdout",
          "text": [
            "[5, 4, 3, 2, 1]\n"
          ]
        }
      ]
    },
    {
      "cell_type": "markdown",
      "source": [
        "***15. Implement a code to find and remove all duplicate from a list while preserving thier order.***"
      ],
      "metadata": {
        "id": "MEazq98LwDxM"
      }
    },
    {
      "cell_type": "code",
      "source": [
        "list_a = [\"vandan\", \"vandan\", 1, 55, 12 , 55 , \"vandan\", \"aman\", \"ajay\", 1, 55, 12 , 55 ]\n",
        "unique_list = []\n",
        "for item in list_a:\n",
        "    if item not in unique_list:\n",
        "        unique_list.append(item)\n",
        "print(unique_list)"
      ],
      "metadata": {
        "colab": {
          "base_uri": "https://localhost:8080/"
        },
        "id": "5EuF0Ih6vf8E",
        "outputId": "b06b19f1-4949-4b1b-b849-db0b868ed8aa"
      },
      "execution_count": null,
      "outputs": [
        {
          "output_type": "stream",
          "name": "stdout",
          "text": [
            "['vandan', 1, 55, 12, 'aman', 'ajay']\n"
          ]
        }
      ]
    },
    {
      "cell_type": "markdown",
      "source": [
        "***16. Create a code to check the list is sorted(Either in ascending or descending order) or not.***"
      ],
      "metadata": {
        "id": "LHpTw-uFw66K"
      }
    },
    {
      "cell_type": "code",
      "source": [
        "my_list = [1, 2, 3, 4, 5]\n",
        "is_ascending = all(my_list[i] <= my_list[i + 1] for i in range(len(my_list) - 1))\n",
        "\n",
        "is_descending = all(my_list[i] >= my_list[i + 1] for i in range(len(my_list) - 1))\n",
        "\n",
        "if is_ascending:\n",
        "    print(\"List is sorted in ascending order\")\n",
        "elif is_descending:\n",
        "    print(\"List is sorted in descending order\")\n",
        "else:\n",
        "    print(\"List is not sorted\")\n",
        "\n"
      ],
      "metadata": {
        "colab": {
          "base_uri": "https://localhost:8080/"
        },
        "id": "nJttzcDmxXUD",
        "outputId": "08119582-c802-412c-8d07-e0909e5cf150"
      },
      "execution_count": null,
      "outputs": [
        {
          "output_type": "stream",
          "name": "stdout",
          "text": [
            "List is sorted in ascending order\n"
          ]
        }
      ]
    },
    {
      "cell_type": "markdown",
      "source": [
        "***17 Create a code to merge two Sorted list in one sorted list.***"
      ],
      "metadata": {
        "id": "PvCG71FH1ksp"
      }
    },
    {
      "cell_type": "code",
      "source": [
        "a = [1,5,2,4,3]\n",
        "b = [6,8,9,10,7]\n",
        "c = sorted(a + b)\n",
        "c.sort()\n",
        "c"
      ],
      "metadata": {
        "colab": {
          "base_uri": "https://localhost:8080/"
        },
        "id": "qJl9QaMQ1y4A",
        "outputId": "fbe5c461-2cb4-4b7a-d056-88137c936c5b"
      },
      "execution_count": null,
      "outputs": [
        {
          "output_type": "execute_result",
          "data": {
            "text/plain": [
              "[1, 2, 3, 4, 5, 6, 7, 8, 9, 10]"
            ]
          },
          "metadata": {},
          "execution_count": 22
        }
      ]
    },
    {
      "cell_type": "markdown",
      "source": [
        "***18. Implement a code to find the interaction of two given lists.***"
      ],
      "metadata": {
        "id": "X2CEllBk2cNC"
      }
    },
    {
      "cell_type": "code",
      "source": [
        "a = [1,2,3,4,5]\n",
        "b = [2,3,4,5,6]\n",
        "c = [x for x in a if x in b]\n",
        "c"
      ],
      "metadata": {
        "colab": {
          "base_uri": "https://localhost:8080/"
        },
        "id": "xFfjvWST2mHx",
        "outputId": "64c9eb26-fb5b-4270-c55f-7a69437237ec"
      },
      "execution_count": null,
      "outputs": [
        {
          "output_type": "execute_result",
          "data": {
            "text/plain": [
              "[2, 3, 4, 5]"
            ]
          },
          "metadata": {},
          "execution_count": 23
        }
      ]
    },
    {
      "cell_type": "markdown",
      "source": [
        "***19.Create a code to find the union of two given list***"
      ],
      "metadata": {
        "id": "662kFX1p3Clp"
      }
    },
    {
      "cell_type": "code",
      "source": [
        "a = [1,2,3,4,5]\n",
        "b = [2,3,4,5,6]\n",
        "c = set(a + b)\n",
        "c"
      ],
      "metadata": {
        "colab": {
          "base_uri": "https://localhost:8080/"
        },
        "id": "YioVGZNT20q_",
        "outputId": "c8c929ee-85b4-4f89-c0c3-fc7f5e3a5723"
      },
      "execution_count": null,
      "outputs": [
        {
          "output_type": "execute_result",
          "data": {
            "text/plain": [
              "{1, 2, 3, 4, 5, 6}"
            ]
          },
          "metadata": {},
          "execution_count": 25
        }
      ]
    },
    {
      "cell_type": "markdown",
      "source": [
        "***20.Write a code shuffle a given list without using a in built shuffle function.***"
      ],
      "metadata": {
        "id": "uGCrAtrl3i0v"
      }
    },
    {
      "cell_type": "code",
      "source": [
        "a = [1,2,3,4,5]\n",
        "a[4] , a[2]  = a[2] , a[4]\n",
        "a"
      ],
      "metadata": {
        "id": "OkI6yR944L7u",
        "colab": {
          "base_uri": "https://localhost:8080/"
        },
        "outputId": "b2ee005b-969a-4b94-fadd-78079315ea6d"
      },
      "execution_count": null,
      "outputs": [
        {
          "output_type": "execute_result",
          "data": {
            "text/plain": [
              "[1, 2, 5, 4, 3]"
            ]
          },
          "metadata": {},
          "execution_count": 6
        }
      ]
    },
    {
      "cell_type": "markdown",
      "source": [
        "***21. Write a code tha takes two tuples as input and returns a new tuple containing elemants that are common to both input tuples.***"
      ],
      "metadata": {
        "id": "WskGZo07ZPej"
      }
    },
    {
      "cell_type": "code",
      "source": [
        "tuple1_str = input(\"Enter tuple 1 (comma-separated values within parentheses): \")\n",
        "tuple2_str = input(\"Enter tuple 2 (comma-separated values within parentheses): \")\n",
        "\n",
        "# Convert input strings to tuples\n",
        "tuple1 = tuple()"
      ],
      "metadata": {
        "colab": {
          "base_uri": "https://localhost:8080/"
        },
        "id": "iz-ca2h3cgQg",
        "outputId": "7957685e-015f-4f7a-8e45-ebe979af7ec0"
      },
      "execution_count": null,
      "outputs": [
        {
          "name": "stdout",
          "output_type": "stream",
          "text": [
            "Enter tuple 1 (comma-separated values within parentheses): ( \"vandan\" , 45 , 56)\n"
          ]
        }
      ]
    },
    {
      "cell_type": "markdown",
      "source": [
        "***22. create a code that prompts the user to enter two sets of integers separated by commas, then print the intersection of these two sets***"
      ],
      "metadata": {
        "id": "yNP32WmMh6FP"
      }
    },
    {
      "cell_type": "code",
      "source": [
        "set1 = input(\"Enter the first set of integers (separated by commas): \")\n",
        "set2 = input(\"Enter the second set of integers (separated by commas): \")\n",
        "\n",
        "set1 = {int(x) for x in set1.split(',')}\n",
        "set2 = {int(x) for x in set2.split(',')}\n",
        "\n",
        "intersection = set1 & set2\n",
        "\n",
        "print(\"Intersection:\", intersection)\n",
        "\n"
      ],
      "metadata": {
        "id": "usPKhGSecuxv",
        "colab": {
          "base_uri": "https://localhost:8080/"
        },
        "outputId": "bc04bfb6-4921-4210-f177-1cc06018b169"
      },
      "execution_count": 1,
      "outputs": [
        {
          "output_type": "stream",
          "name": "stdout",
          "text": [
            "Enter the first set of integers (separated by commas): 1, 2, 3, 4, 5\n",
            "Enter the second set of integers (separated by commas): 1, 2, 4, 7, 7, 9 \n",
            "Intersection: {1, 2, 4}\n"
          ]
        }
      ]
    },
    {
      "cell_type": "markdown",
      "source": [
        "***23. Write a code to concatenate two tuples. The function should take two tuples as input and return new tuple containing elemants from both input tuples.***"
      ],
      "metadata": {
        "id": "kMzyW9-6iaTV"
      }
    },
    {
      "cell_type": "code",
      "source": [
        "def concatenate_tuples(tuple1, tuple2):\n",
        "    return tuple1 + tuple2\n",
        "\n",
        "tuple1 = (1, 2, 3)\n",
        "tuple2 = (4, 5, 6)\n",
        "print(concatenate_tuples(tuple1, tuple2))"
      ],
      "metadata": {
        "colab": {
          "base_uri": "https://localhost:8080/"
        },
        "id": "kZYBoLV_h3y0",
        "outputId": "45b1b8f9-8726-4c92-ebce-7b7b80913c9b"
      },
      "execution_count": 2,
      "outputs": [
        {
          "output_type": "stream",
          "name": "stdout",
          "text": [
            "(1, 2, 3, 4, 5, 6)\n"
          ]
        }
      ]
    },
    {
      "cell_type": "code",
      "source": [],
      "metadata": {
        "id": "ofdqS0yZk8LE"
      },
      "execution_count": null,
      "outputs": []
    },
    {
      "cell_type": "code",
      "source": [],
      "metadata": {
        "id": "4flnn3bYk8Hd"
      },
      "execution_count": null,
      "outputs": []
    },
    {
      "cell_type": "markdown",
      "source": [
        "***24. Develop a code that prompts the user to input two sets of strings. Then, print the elemants that are present in the first set but not in the second set.***"
      ],
      "metadata": {
        "id": "9qBDUHZCjUOI"
      }
    },
    {
      "cell_type": "code",
      "source": [
        "set1 = input(\"Enter the first set of strings (separated by commas): \")\n",
        "set2 = input(\"Enter the second set of strings (separated by commas): \")\n",
        "\n",
        "set1 = {x.strip() for x in set1.split(',')}\n",
        "set2 = {x.strip() for x in set2.split(',')}\n",
        "\n",
        "difference = set1 - set2\n",
        "\n",
        "print(difference)\n",
        "\n"
      ],
      "metadata": {
        "colab": {
          "base_uri": "https://localhost:8080/"
        },
        "id": "inWTJGUJjHJh",
        "outputId": "a0dc066f-e37f-4449-e75b-6c8bece7a651"
      },
      "execution_count": 4,
      "outputs": [
        {
          "output_type": "stream",
          "name": "stdout",
          "text": [
            "Enter the first set of strings (separated by commas): \"vandan\",\"sheetal\",\"Nandani\"\n",
            "Enter the second set of strings (separated by commas): \"gaurav\", \"sheetal\", \"Nandini\"\n",
            "{'\"vandan\"', '\"Nandani\"'}\n"
          ]
        }
      ]
    },
    {
      "cell_type": "markdown",
      "source": [
        "***25. Create a code that takes a tuple and two integers as input. The function should return a new tuple containing elements from the original tuple within the specified range of indices.***"
      ],
      "metadata": {
        "id": "DqclCvC5lHNl"
      }
    },
    {
      "cell_type": "code",
      "source": [
        "def get_subtuple(tup, start, end):\n",
        "    return tup[start:end+1]\n",
        "\n",
        "tup = (1, 2, 3, 4, 5, 6, 7, 8, 9)\n",
        "start = 3\n",
        "end = 6\n",
        "print(get_subtuple(tup, start, end))"
      ],
      "metadata": {
        "colab": {
          "base_uri": "https://localhost:8080/"
        },
        "id": "OY9HwjrDkIG_",
        "outputId": "e851ba0f-8d0c-4d08-9628-b32c6853a788"
      },
      "execution_count": 8,
      "outputs": [
        {
          "output_type": "stream",
          "name": "stdout",
          "text": [
            "(4, 5, 6, 7)\n"
          ]
        }
      ]
    },
    {
      "cell_type": "markdown",
      "source": [
        "***26. Write a code that prompts the user to input two sets of characters. Then, print the union of these two sets.***"
      ],
      "metadata": {
        "id": "BnSWd_3smSj1"
      }
    },
    {
      "cell_type": "code",
      "source": [
        "set1 = input(\"Enter the first set of characters (separated by commas): \")\n",
        "set2 = input(\"Enter the second set of characters (separated by commas): \")\n",
        "\n",
        "set1 = {x.strip() for x in set1.split(',')}\n",
        "set2 = {x.strip() for x in set2.split(',')}\n",
        "\n",
        "union = set1 | set2\n",
        "\n",
        "print(union)"
      ],
      "metadata": {
        "colab": {
          "base_uri": "https://localhost:8080/"
        },
        "id": "NkWWyeibl9FZ",
        "outputId": "f371899a-f427-4254-f17f-cc7c1a70136a"
      },
      "execution_count": 1,
      "outputs": [
        {
          "output_type": "stream",
          "name": "stdout",
          "text": [
            "Enter the first set of characters (separated by commas): \"vandan\",2,1,3,4,5,\"naveen\"\n",
            "Enter the second set of characters (separated by commas): \"vandan\",7,8,9,10\n",
            "{'9', '5', '4', '3', '7', '10', '1', '\"naveen\"', '2', '8', '\"vandan\"'}\n"
          ]
        }
      ]
    },
    {
      "cell_type": "markdown",
      "source": [
        "***27.Develop a code that takes a tuple of integers as input. The function should return the maximum and minimum values from the tuple using tuple unpacking***"
      ],
      "metadata": {
        "id": "kOfy9Fdj9fwE"
      }
    },
    {
      "cell_type": "code",
      "source": [
        "def find_max_min(tup):\n",
        "    return max(tup), min(tup)\n",
        "\n",
        "tup = (1, 2, 3, 4, 5)\n",
        "max_val, min_val = find_max_min(tup)\n",
        "print(f\"Maximum value: {max_val}\")\n",
        "print(f\"Minimum value: {min_val}\")\n"
      ],
      "metadata": {
        "colab": {
          "base_uri": "https://localhost:8080/"
        },
        "id": "Fii3HUNOnK3S",
        "outputId": "095cd56b-d09c-4cf5-e58c-0d0d9601a6ba"
      },
      "execution_count": 2,
      "outputs": [
        {
          "output_type": "stream",
          "name": "stdout",
          "text": [
            "Maximum value: 5\n",
            "Minimum value: 1\n"
          ]
        }
      ]
    },
    {
      "cell_type": "markdown",
      "source": [
        "***28. Create a code that defines two of integers. Then, print the union, intersection and difference of these two sets.***"
      ],
      "metadata": {
        "id": "VmSYJGG3-iQ3"
      }
    },
    {
      "cell_type": "code",
      "source": [
        "set1 = {1, 2, 3, 4, 5}\n",
        "set2 = {4, 5, 6, 7, 8}\n",
        "\n",
        "print(\"Union:\", set1 | set2)\n",
        "\n",
        "print(\"Intersection:\", set1 & set2)\n",
        "\n",
        "print(\"Difference (set1 - set2):\", set1 - set2)\n",
        "\n",
        "print(\"Difference (set2 - set1):\", set2 - set1)\n",
        "\n"
      ],
      "metadata": {
        "colab": {
          "base_uri": "https://localhost:8080/"
        },
        "id": "mQ7j1wg9-h6p",
        "outputId": "9825eba2-76b0-4f40-bd77-5b3ed56f114b"
      },
      "execution_count": 3,
      "outputs": [
        {
          "output_type": "stream",
          "name": "stdout",
          "text": [
            "Union: {1, 2, 3, 4, 5, 6, 7, 8}\n",
            "Intersection: {4, 5}\n",
            "Difference (set1 - set2): {1, 2, 3}\n",
            "Difference (set2 - set1): {8, 6, 7}\n"
          ]
        }
      ]
    },
    {
      "cell_type": "markdown",
      "source": [
        "***29. Write a code that takes a tuple and a element as input. The function should return the count of occurrences of the given element in the tuple.***"
      ],
      "metadata": {
        "id": "fcEAVdxc_7hE"
      }
    },
    {
      "cell_type": "code",
      "source": [
        "def count_occurrences(tup, elem):\n",
        "    return tup.count(elem)\n",
        "\n",
        "tup = (1, 2, 2, 3, 2, 4, 2, 5)\n",
        "elem = 2\n",
        "print(f\"Count of {elem} in the tuple: {count_occurrences(tup, elem)}\")\n",
        "\n"
      ],
      "metadata": {
        "colab": {
          "base_uri": "https://localhost:8080/"
        },
        "id": "kTjoKayW-f_-",
        "outputId": "51528173-5eee-4bed-88ff-a01af6dbdea3"
      },
      "execution_count": 4,
      "outputs": [
        {
          "output_type": "stream",
          "name": "stdout",
          "text": [
            "Count of 2 in the tuple: 4\n"
          ]
        }
      ]
    },
    {
      "cell_type": "markdown",
      "source": [
        "***30.Develop a code that prompts the user to input two sets of strings. Then, print the symmetric difference of these two sets.***"
      ],
      "metadata": {
        "id": "rsbpYp8DAThq"
      }
    },
    {
      "cell_type": "code",
      "source": [
        "set1 = input(\"Enter the first set of strings (separated by commas): \")\n",
        "set2 = input(\"Enter the second set of strings (separated by commas): \")\n",
        "\n",
        "set1 = {x.strip() for x in set1.split(',')}\n",
        "set2 = {x.strip() for x in set2.split(',')}\n",
        "\n",
        "symmetric_difference = set1 ^ set2\n",
        "\n",
        "print(str(symmetric_difference))\n",
        "\n"
      ],
      "metadata": {
        "colab": {
          "base_uri": "https://localhost:8080/"
        },
        "id": "JmyUE3AvARWm",
        "outputId": "0e9984a5-d890-4e87-b596-164dd5234d30"
      },
      "execution_count": 10,
      "outputs": [
        {
          "output_type": "stream",
          "name": "stdout",
          "text": [
            "Enter the first set of strings (separated by commas): \"vandan\",\"bhanuj\"\n",
            "Enter the second set of strings (separated by commas): \"vandan\",\"namrata\"\n",
            "{'\"namrata\"', '\"bhanuj\"'}\n"
          ]
        }
      ]
    },
    {
      "cell_type": "markdown",
      "source": [
        "***31. Write a code that takes a list of words as input and return a dictionary where the keys are the unique words and the values are the frequencies of those words in the input list***"
      ],
      "metadata": {
        "id": "CnpUvmoqFVqC"
      }
    },
    {
      "cell_type": "code",
      "source": [
        "def word_frequencies(word_list):\n",
        "    return {word: word_list.count(word) for word in set(word_list)}\n",
        "\n",
        "word_list = [\"apple\", \"banana\", \"apple\", \"orange\", \"banana\", \"banana\"]\n",
        "print(word_frequencies(word_list))\n"
      ],
      "metadata": {
        "colab": {
          "base_uri": "https://localhost:8080/"
        },
        "id": "LpkiYSpGFfLr",
        "outputId": "c2a2eaba-bbf6-4f57-f3bb-4512b03dbacd"
      },
      "execution_count": 14,
      "outputs": [
        {
          "output_type": "stream",
          "name": "stdout",
          "text": [
            "{'banana': 3, 'apple': 2, 'orange': 1}\n"
          ]
        }
      ]
    },
    {
      "cell_type": "markdown",
      "source": [
        "***32. Write A code that takes 2 dictionaries as input and Marges them into a single dictionary if there are common keys the value should be added together.***"
      ],
      "metadata": {
        "id": "W2X-Gnh6EpS1"
      }
    },
    {
      "cell_type": "code",
      "source": [
        "def merge_dicts(dict1, dict2):\n",
        "    merged_dict = {}\n",
        "    for key in set(list(dict1.keys()) + list(dict2.keys())):\n",
        "        merged_dict[key] = dict1.get(key, 0) + dict2.get(key, 0)\n",
        "    return merged_dict\n",
        "\n",
        "dict1 = {'a': 1, 'b': 2, 'c': 3}\n",
        "dict2 = {'b': 3, 'c': 4, 'd': 5}\n",
        "print(merge_dicts(dict1, dict2))\n"
      ],
      "metadata": {
        "colab": {
          "base_uri": "https://localhost:8080/"
        },
        "id": "CnYkUOdEBZ8B",
        "outputId": "09f1c0f6-a007-41a8-ee60-b5c9993cb914"
      },
      "execution_count": 13,
      "outputs": [
        {
          "output_type": "stream",
          "name": "stdout",
          "text": [
            "{'a': 1, 'c': 7, 'b': 5, 'd': 5}\n"
          ]
        }
      ]
    },
    {
      "cell_type": "markdown",
      "source": [
        "***33. Write a code to access a value in a nested dictionary. The function should take the dictionary and a list of keys as input, and return the corresponding value. If any of the key do not exist in the dictionary, the function should return none***"
      ],
      "metadata": {
        "id": "njCMsR_CE4Ot"
      }
    },
    {
      "cell_type": "code",
      "source": [
        "def access_nested_dict(nested_dict, keys):\n",
        "    current_dict = nested_dict\n",
        "    for key in keys:\n",
        "        if key in current_dict:\n",
        "            current_dict = current_dict[key]\n",
        "        else:\n",
        "            return None\n",
        "    return current_dict\n",
        "\n",
        "\n",
        "nested_dict = {\n",
        "    'a': {\n",
        "        'b': {\n",
        "            'c': 'vandan'\n",
        "\n",
        "        }\n",
        "    }\n",
        "}\n",
        "keys = ['a', 'b', 'c']\n",
        "print(access_nested_dict(nested_dict, keys))\n",
        "\n",
        "keys = ['a', 'b', 'd']\n",
        "print(access_nested_dict(nested_dict, keys))\n"
      ],
      "metadata": {
        "colab": {
          "base_uri": "https://localhost:8080/"
        },
        "id": "ACkVDdyhEmyl",
        "outputId": "8d11bca7-9ee5-4905-8919-f856dd4936a5"
      },
      "execution_count": 20,
      "outputs": [
        {
          "output_type": "stream",
          "name": "stdout",
          "text": [
            "vandan\n",
            "None\n"
          ]
        }
      ]
    },
    {
      "cell_type": "markdown",
      "source": [
        "***34. Write a code that takes a dictionary as input and written as sorted version of it based on the values. You can choose whether to sort in ascending order or descending order.***"
      ],
      "metadata": {
        "id": "2hFpIgfkHoss"
      }
    },
    {
      "cell_type": "code",
      "source": [
        "def sort_dict_by_values(input_dict):\n",
        "    sorted_dict = dict(sorted(input_dict.items(), key=lambda item: item[1]))\n",
        "    return sorted_dict\n",
        "\n",
        "input_dict = {'a': 3, 'b': 1, 'c': 2, 'd': 4}\n",
        "print(sort_dict_by_values(input_dict))"
      ],
      "metadata": {
        "colab": {
          "base_uri": "https://localhost:8080/"
        },
        "id": "mm5hyIYlGljZ",
        "outputId": "5cc47902-6483-4f2b-98c9-cf8bdd71194d"
      },
      "execution_count": 21,
      "outputs": [
        {
          "output_type": "stream",
          "name": "stdout",
          "text": [
            "{'b': 1, 'c': 2, 'a': 3, 'd': 4}\n"
          ]
        }
      ]
    },
    {
      "cell_type": "markdown",
      "source": [
        "***35. Write a code that inverts a dictionary, swapping keys and values. Ensure that the inverted dictionary correctly handles cases where multiple keys have the same value by storing the keys as a list in the inverted dictionary.***"
      ],
      "metadata": {
        "id": "CnlMIJ-vIkIP"
      }
    },
    {
      "cell_type": "code",
      "source": [
        "def invert_dict(input_dict):\n",
        "    inverted_dict = {}\n",
        "    for key, value in input_dict.items():\n",
        "        if value in inverted_dict:\n",
        "            inverted_dict[value].append(key)\n",
        "        else:\n",
        "            inverted_dict[value] = [key]\n",
        "    return inverted_dict\n",
        "\n",
        "input_dict = {'a': 1, 'b': 2, 'c': 1, 'd': 3}\n",
        "print(invert_dict(input_dict))\n",
        "\n",
        "\n"
      ],
      "metadata": {
        "colab": {
          "base_uri": "https://localhost:8080/"
        },
        "id": "wRA97UWWIh4A",
        "outputId": "74d249b6-509f-4d14-e714-e3f5c3c934c2"
      },
      "execution_count": 22,
      "outputs": [
        {
          "output_type": "stream",
          "name": "stdout",
          "text": [
            "{1: ['a', 'c'], 2: ['b'], 3: ['d']}\n"
          ]
        }
      ]
    },
    {
      "cell_type": "code",
      "source": [],
      "metadata": {
        "id": "a0plI4vvJd2w"
      },
      "execution_count": null,
      "outputs": []
    }
  ]
}